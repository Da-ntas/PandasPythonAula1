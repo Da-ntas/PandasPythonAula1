{
  "nbformat": 4,
  "nbformat_minor": 0,
  "metadata": {
    "colab": {
      "provenance": [],
      "authorship_tag": "ABX9TyPhJU0m4Dgab0nde2FsvFzF",
      "include_colab_link": true
    },
    "kernelspec": {
      "name": "python3",
      "display_name": "Python 3"
    },
    "language_info": {
      "name": "python"
    }
  },
  "cells": [
    {
      "cell_type": "markdown",
      "metadata": {
        "id": "view-in-github",
        "colab_type": "text"
      },
      "source": [
        "<a href=\"https://colab.research.google.com/github/Da-ntas/PandasPythonAula1/blob/main/panda.ipynb\" target=\"_parent\"><img src=\"https://colab.research.google.com/assets/colab-badge.svg\" alt=\"Open In Colab\"/></a>"
      ]
    },
    {
      "cell_type": "code",
      "execution_count": 7,
      "metadata": {
        "id": "nSg7YdgaBPzf"
      },
      "outputs": [],
      "source": [
        "import pandas\n",
        "\n",
        "ca_df = pandas.read_excel(\"ca-2021-02.xlsx\")"
      ]
    },
    {
      "cell_type": "code",
      "source": [
        "print(ca_df)"
      ],
      "metadata": {
        "id": "23aV8z47C4z1"
      },
      "execution_count": null,
      "outputs": []
    },
    {
      "cell_type": "code",
      "source": [
        "display(ca_df)"
      ],
      "metadata": {
        "id": "BSNXSZ4DDo5x"
      },
      "execution_count": null,
      "outputs": []
    },
    {
      "cell_type": "code",
      "source": [
        "#exibe as primeiras linhas\n",
        "display(ca_df.head())"
      ],
      "metadata": {
        "id": "KJLYcTCWETao"
      },
      "execution_count": null,
      "outputs": []
    },
    {
      "cell_type": "code",
      "source": [
        "#head com quantidade de linhas que quiser\n",
        "display(ca_df.head(2))"
      ],
      "metadata": {
        "id": "QSB8TUZ1Fqdv"
      },
      "execution_count": null,
      "outputs": []
    },
    {
      "cell_type": "code",
      "source": [
        "#shape e describe\n",
        "print(ca_df.shape)\n",
        "#print linhas\n",
        "print(ca_df.shape[0])\n",
        "#print colunas\n",
        "print(ca_df.shape[1])\n",
        "\n",
        "display(ca_df.describe())"
      ],
      "metadata": {
        "id": "UaesSamPGzPA"
      },
      "execution_count": null,
      "outputs": []
    },
    {
      "cell_type": "code",
      "source": [
        "#display colunas\n",
        "print(ca_df.info())\n"
      ],
      "metadata": {
        "id": "JlNeK8aMJd1G"
      },
      "execution_count": null,
      "outputs": []
    },
    {
      "cell_type": "code",
      "source": [
        "#filtra colunas\n",
        "columns = ca_df[['Regiao - Sigla', 'Municipio', 'Revenda']]\n",
        "display(columns)"
      ],
      "metadata": {
        "id": "1RuOWmULbtH0"
      },
      "execution_count": null,
      "outputs": []
    },
    {
      "cell_type": "code",
      "source": [
        "#filtra linhas\n",
        "ca_linha = ca_df.loc[3]\n",
        "ca_intervalos = ca_df.loc[9:13]\n",
        "\n",
        "display(ca_intervalos)"
      ],
      "metadata": {
        "id": "JHqIzN3DbwPK"
      },
      "execution_count": null,
      "outputs": []
    },
    {
      "cell_type": "code",
      "source": [
        "#contem apenas 4 colunas -> Revenda, Municipio, Valor de venda e produto é gasolina\n",
        "ca_gas = ca_df[['Revenda', 'Municipio', 'Produto', 'Valor de Venda']].loc[(ca_df['Produto'] == 'GASOLINA') & (ca_df['Municipio'] == 'ITUIUTABA')]\n",
        "ca_gas_max = ca_gas['Valor de Venda'].max()\n",
        "display(ca_gas.max())"
      ],
      "metadata": {
        "colab": {
          "base_uri": "https://localhost:8080/",
          "height": 104
        },
        "id": "ubxykAQAeYJM",
        "outputId": "eca1223f-f9d6-4f21-d03e-938c25853656"
      },
      "execution_count": 48,
      "outputs": [
        {
          "output_type": "display_data",
          "data": {
            "text/plain": [
              "Revenda           POSTO VITÓRIA PLATINA LTDA.\n",
              "Municipio                           ITUIUTABA\n",
              "Produto                              GASOLINA\n",
              "Valor de Venda                          7.199\n",
              "dtype: object"
            ]
          },
          "metadata": {}
        }
      ]
    }
  ]
}