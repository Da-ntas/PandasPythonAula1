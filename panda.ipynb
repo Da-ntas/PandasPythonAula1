{
  "nbformat": 4,
  "nbformat_minor": 0,
  "metadata": {
    "colab": {
      "provenance": [],
      "authorship_tag": "ABX9TyNnATIT1/AnX493QhyAvgeX",
      "include_colab_link": true
    },
    "kernelspec": {
      "name": "python3",
      "display_name": "Python 3"
    },
    "language_info": {
      "name": "python"
    }
  },
  "cells": [
    {
      "cell_type": "markdown",
      "metadata": {
        "id": "view-in-github",
        "colab_type": "text"
      },
      "source": [
        "<a href=\"https://colab.research.google.com/github/Da-ntas/PandasPythonAula1/blob/main/panda.ipynb\" target=\"_parent\"><img src=\"https://colab.research.google.com/assets/colab-badge.svg\" alt=\"Open In Colab\"/></a>"
      ]
    },
    {
      "cell_type": "code",
      "execution_count": 3,
      "metadata": {
        "id": "nSg7YdgaBPzf"
      },
      "outputs": [],
      "source": [
        "import pandas\n",
        "import numpy as np\n",
        "\n",
        "ca_df = pandas.read_excel(\"ca-2021-02.xlsx\")"
      ]
    },
    {
      "cell_type": "code",
      "source": [
        "print(ca_df)"
      ],
      "metadata": {
        "id": "23aV8z47C4z1"
      },
      "execution_count": null,
      "outputs": []
    },
    {
      "cell_type": "code",
      "source": [
        "display(ca_df)"
      ],
      "metadata": {
        "id": "BSNXSZ4DDo5x"
      },
      "execution_count": null,
      "outputs": []
    },
    {
      "cell_type": "code",
      "source": [
        "#exibe as primeiras linhas\n",
        "display(ca_df.head())"
      ],
      "metadata": {
        "id": "KJLYcTCWETao"
      },
      "execution_count": null,
      "outputs": []
    },
    {
      "cell_type": "code",
      "source": [
        "#head com quantidade de linhas que quiser\n",
        "display(ca_df.head(2))"
      ],
      "metadata": {
        "id": "QSB8TUZ1Fqdv"
      },
      "execution_count": null,
      "outputs": []
    },
    {
      "cell_type": "code",
      "source": [
        "#shape e describe\n",
        "print(ca_df.shape)\n",
        "#print linhas\n",
        "print(ca_df.shape[0])\n",
        "#print colunas\n",
        "print(ca_df.shape[1])\n",
        "\n",
        "display(ca_df.describe())"
      ],
      "metadata": {
        "id": "UaesSamPGzPA"
      },
      "execution_count": null,
      "outputs": []
    },
    {
      "cell_type": "code",
      "source": [
        "#display colunas\n",
        "print(ca_df.info())\n"
      ],
      "metadata": {
        "id": "JlNeK8aMJd1G"
      },
      "execution_count": null,
      "outputs": []
    },
    {
      "cell_type": "code",
      "source": [
        "#filtra colunas\n",
        "columns = ca_df[['Regiao - Sigla', 'Municipio', 'Revenda']]\n",
        "display(columns)"
      ],
      "metadata": {
        "id": "1RuOWmULbtH0"
      },
      "execution_count": null,
      "outputs": []
    },
    {
      "cell_type": "code",
      "source": [
        "#filtra linhas\n",
        "ca_linha = ca_df.loc[3]\n",
        "ca_intervalos = ca_df.loc[9:13]\n",
        "\n",
        "display(ca_intervalos)"
      ],
      "metadata": {
        "id": "JHqIzN3DbwPK"
      },
      "execution_count": null,
      "outputs": []
    },
    {
      "cell_type": "code",
      "source": [
        "#contem apenas 4 colunas -> Revenda, Municipio, Valor de venda e produto é gasolina\n",
        "ca_gas = ca_df[['Revenda', 'Municipio', 'Produto', 'Valor de Venda']].loc[(ca_df['Produto'] == 'GASOLINA') & (ca_df['Municipio'] == 'ITUIUTABA')]\n",
        "ca_gas_max = ca_gas['Valor de Venda'].max()\n",
        "display(ca_gas.max())"
      ],
      "metadata": {
        "id": "ubxykAQAeYJM"
      },
      "execution_count": null,
      "outputs": []
    },
    {
      "cell_type": "code",
      "source": [
        "#DataFrame.loc[] com múltiplas condições para filtragem\n",
        "#Quais são os preços, postos que vendem ETANOL na minha cidade (INDAIATUBA) \n",
        "#ordenado do menor valor de venda para o maior\n",
        "etanol_indaiatuba_df = ca_df.loc[(ca_df['Produto'] == 'ETANOL') & (ca_df['Municipio'] == 'INDAIATUBA')]\n",
        "display(etanol_indaiatuba_df.sort_values(by='Valor de Venda'))  "
      ],
      "metadata": {
        "id": "9sXkZwONo7lt"
      },
      "execution_count": null,
      "outputs": []
    },
    {
      "cell_type": "code",
      "source": [
        "#media de preços gasolina e gasolina aditivada do bairro mooca em sao paulo\n",
        "\n",
        "#filtra pelo bairo MOOCA e pelo municipio SP\n",
        "ca_moocaSP = ca_df.loc[(ca_df['Bairro'] == 'MOOCA') & (ca_df['Municipio'] == 'SAO PAULO')]\n",
        "\n",
        "#filtra por GASOLINA e GASOLINA ADITIVADA e traz somente a coluna de Valor de Venda já na média\n",
        "ca_moocaSP_gas_gasADT = ca_moocaSP.loc[(ca_moocaSP['Produto'] == 'GASOLINA') | (ca_moocaSP['Produto'] == 'GASOLINA ADITIVADA'), ['Valor de Venda']].mean()\n",
        "\n",
        "# --> utilizando o IN\n",
        "# ca_moocaSP_gas_gasADT2 = ca_moocaSP.loc[ca_moocaSP['Produto'].isin(['GASOLINA', 'GASOLINA ADITIVADA']), ['Valor de Venda']].mean()\n",
        "\n",
        "# display(ca_moocaSP)\n",
        "display(ca_moocaSP_gas_gasADT)"
      ],
      "metadata": {
        "id": "-StG6_LDSvRe"
      },
      "execution_count": null,
      "outputs": []
    },
    {
      "cell_type": "code",
      "source": [
        "#mostrar media de valor de venda por combustivel no brasil todo mostrando 2 casas decimais\n",
        "media_combustivel_groupedBy_prod = ca_df[['Produto', 'Valor de Venda']].groupby(by=['Produto']).mean().round(2)\n",
        "media_combustivel_groupedBy_prodEstado = ca_df[['Produto', 'Valor de Venda', 'Estado - Sigla']].groupby(by=['Produto', 'Estado - Sigla']).mean().round(2)\n",
        "\n",
        "display(media_combustivel_groupedBy_prod)\n",
        "display(media_combustivel_groupedBy_prodEstado)"
      ],
      "metadata": {
        "id": "K-JH5n69Yi7e"
      },
      "execution_count": null,
      "outputs": []
    },
    {
      "cell_type": "code",
      "source": [
        "#inserindo novas informações na ca_df -> adicionar coluna boolean chamada 'Ativo' -> por padrão é true para todas\n",
        "print(ca_df.info()) #antes de adicionar a coluna\n",
        "print(\"\\n===================\") #depois de adicionar a coluna\n",
        "ca_df['Ativo'] = True\n",
        "print(\"===================\\n\") #depois de adicionar a coluna\n",
        "print(ca_df.info()) #depois de adicionar a coluna"
      ],
      "metadata": {
        "id": "O8PGGH97je17"
      },
      "execution_count": null,
      "outputs": []
    },
    {
      "cell_type": "code",
      "source": [
        "#inserindo novas informações na ca_df condicionalmente -> coluna Obs -> preencha automaticamente \"MELHOR CIDADE\" quando o municipio for INDAIATUBA, SP\n",
        "#ca_df['Obs'] = \"MELHOR CIDADE\" if ca_df['Municipio'] == 'INDAIATUBA' else ''\n",
        "ca_df['Obs2'] = np.where(ca_df['Municipio'] == 'SAO PAULO', 'Melhor Cidade', '')\n",
        "\n",
        "#solucao pendente"
      ],
      "metadata": {
        "id": "eEdqoiwMl-lz"
      },
      "execution_count": 62,
      "outputs": []
    },
    {
      "cell_type": "code",
      "source": [
        "#exportar para excel etanol_indaiatuba_df\n",
        "etanol_indaiatuba_df.to_excel('etanol_indaiatuba.xlsx', sheet_name='Etanol Indaiatuba', index=False)"
      ],
      "metadata": {
        "id": "dPmgnBrHnisi"
      },
      "execution_count": 69,
      "outputs": []
    }
  ]
}